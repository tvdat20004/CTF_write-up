{
 "cells": [
  {
   "cell_type": "markdown",
   "metadata": {},
   "source": [
    "# A solution for NSUCRYPTO 2024\n",
    "- __Problem 10:__ Unknown function\n",
    "\n",
    "From the statement, Alice has an oracle that returns $M(x) = f(x) \\oplus k$, where \n",
    "\n",
    "- $x = (x_1, x_2, x_3, x_4)$ is a 4-bit plaintext.\n",
    "- $f(x) = (f_1(x), f_2(x), f_3(x), f_4(x))$ is an invertible vectorial Boolean function in 4 variables.\n",
    "- $k = (k_1, k_2, k_3, k_4)$ is a key.\n",
    "\n",
    "Alice also know $c \\in \\mathbb{F}_2^4$ such that $f(0, 0, 0, 0) \\oplus f(1, 1, 1, 1) \\oplus f(1, 0, 0, 0) = c$\n",
    "\n",
    "To recover key, Alice can follow this strategy:\n",
    "\n",
    "1. Send $x_0 = (0, 0, 0, 0)$ to the oracle and receive $m_0 = f(x_0) \\oplus k$.\n",
    "2. Send $x_1 = (1, 1, 1, 1)$ to the oracle and receive $m_1 = f(x_1) \\oplus k$.\n",
    "3. Send $x_0 = (1, 0, 0, 0)$ to the oracle and receive $m_2 = f(x_2) \\oplus k$.\n",
    "4. Xoring all the outputs she received, she will have: $$\\begin{aligned}m_0 \\oplus m_1 \\oplus m_2 &= (f(0, 0, 0, 0) \\oplus k) \\oplus (f(1, 1, 1, 1) \\oplus k) \\oplus (f(1, 0, 0, 0) \\oplus k) \\\\ &= f(0, 0, 0, 0) \\oplus f(1, 1, 1, 1) \\oplus f(1, 0, 0, 0) \\oplus k \\\\ &= c \\oplus k \\end{aligned}$$\n",
    "5. Because Alice knows $c$, so she can get $k$ by calculate $m_0 \\oplus m_1 \\oplus m_2 \\oplus c.$"
   ]
  },
  {
   "cell_type": "markdown",
   "metadata": {},
   "source": []
  }
 ],
 "metadata": {
  "kernelspec": {
   "display_name": "pypy",
   "language": "python",
   "name": "python3"
  },
  "language_info": {
   "name": "python",
   "version": "3.9.18"
  }
 },
 "nbformat": 4,
 "nbformat_minor": 2
}
