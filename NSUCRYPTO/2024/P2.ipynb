{
 "cells": [
  {
   "cell_type": "markdown",
   "metadata": {},
   "source": [
    "# Problem 2. AntCipher 2.0\n",
    "## Problem:\n",
    "- Giving this CNF C: \n",
    "\n",
    "$C = (x_1 \\lor x_2 \\lor \\neg x_5) \\land (\\neg x_1 \\lor \\neg x_2 \\lor x_5) \\land (x_1 \\lor x_3 \\lor \\neg x_5) \\land (\\neg x_1 \\lor \\neg x_3 \\lor x_5) \\land (x_2 \\lor x_3 \\lor \\neg x_5) \\land (\\neg x_2 \\lor \\neg x_3 \\lor x_5) \\land (x_1 \\lor x_2 \\lor x_5) \\land (\\neg x_1 \\lor \\neg x_2 \\lor \\neg x_5) \\land (x_1 \\lor x_3 \\lor x_5) \\land (\\neg x_1 \\lor \\neg x_3 \\lor \\neg x_5) \\land (x_2 \\lor x_3 \\lor x_5) \\land (\\neg x_2 \\lor \\neg x_3 \\lor \\neg x_5) \\land (x_1 \\lor x_4 \\lor x_6) \\land (\\neg x_1 \\lor \\neg x_4 \\lor x_6) \\land (x_2 \\lor x_4 \\lor \\neg x_6) \\land (\\neg x_2 \\lor \\neg x_4 \\lor x_6) \\land (x_3 \\lor x_4 \\lor x_6) \\land (\\neg x_3 \\lor \\neg x_4 \\lor \\neg x_6) \\land (x_1 \\lor x_2 \\lor \\neg x_6) \\land (\\neg x_1 \\lor \\neg x_2 \\lor \\neg x_6) \\land (x_2 \\lor x_3 \\lor \\neg x_6) \\land (\\neg x_2 \\lor \\neg x_3 \\lor \\neg x_6) \\land (x_1 \\lor \\neg x_4 \\lor x_7) \\land (\\neg x_1 \\lor \\neg x_4 \\lor \\neg x_7) \\land (x_2 \\lor x_4 \\lor \\neg x_7) \\land (\\neg x_2 \\lor \\neg x_4 \\lor x_7) \\land (x_3 \\lor x_4 \\lor \\neg x_8) \\land (\\neg x_3 \\lor \\neg x_4 \\lor x_8) \\land (x_2 \\lor x_4 \\lor \\neg x_8) \\land (\\neg x_2 \\lor \\neg x_3 \\lor \\neg x_8)$\n",
    "\n",
    "- This CNF represents a nonlinear function $F_C$ where `C = 1`, taking a 4-bit input `(x1, x2, x3, x4)` and producing a 4-bit output `(x5, x6, x7, x8)`. In the i-th iteration of the cipher, a 64-bit value of R is divided into 16 4-bit sequences, which are given to $F_C$ as inputs. Then 16 4-bit outputs are produced and concatenated thus forming a 64-bit $K_i$ that is written to R and is used as a keystream. Given some infomation: \n",
    "- 1704th ciphertext: `1001 1000 0011 1101 0110 0011 1101 0101 1011 0011 1011 0111 0000 0000 1000 0011`\n",
    "- The 1702nd keystream: `0101 1001 1111 0011 00X1 X111 1X00 00X0 111X X000 XXXX XXXX XXXX XXXX XXXX XXXX`\n",
    "- The 1703rd keystream: `XXXX XXXX XXXX XXXX XXXX XXXX XXXX XXXX X111 000X X010 01X1 0X10 0101 0000 1111`\n",
    "\n",
    "Our goal is to find the plaintext in iteration 1704 to locate the ant."
   ]
  },
  {
   "cell_type": "markdown",
   "metadata": {},
   "source": [
    "## Solution:\n"
   ]
  },
  {
   "cell_type": "markdown",
   "metadata": {},
   "source": [
    "We can simulate the nonlinear function $F_C$ by this python function:"
   ]
  },
  {
   "cell_type": "code",
   "execution_count": 6,
   "metadata": {},
   "outputs": [],
   "source": [
    "def boolean_function(x1, x2, x3, x4, x5, x6, x7, x8):\n",
    "    clause1 = (x1 or x2 or (not x5))\n",
    "    clause2 = ((not x1) or (not x2) or x5)\n",
    "    clause3 = (x1 or x3 or (not x5))\n",
    "    clause4 = ((not x1) or (not x3) or x5)\n",
    "    clause5 = (x2 or x3 or (not x5))\n",
    "    clause6 = ((not x2) or (not x3) or x5)\n",
    "    clause7 = (x1 or x2 or (not x6))\n",
    "    clause8 = ((not x1) or (not x2) or x6)\n",
    "    clause9 = (x1 or x4 or (not x6))\n",
    "    clause10 = ((not x1) or (not x4) or x6)\n",
    "    clause11 = (x2 or x4 or (not x6))\n",
    "    clause12 = ((not x2) or (not x4) or x6)\n",
    "    clause13 = (x1 or x3 or (not x7))\n",
    "    clause14 = ((not x1) or (not x3) or x7)\n",
    "    clause15 = (x1 or x4 or (not x7))\n",
    "    clause16 = ((not x1) or (not x4) or x7)\n",
    "    clause17 = (x3 or x4 or (not x7))\n",
    "    clause18 = ((not x3 )or (not x4) or x7)\n",
    "    clause19 = (x2 or x3 or (not x8))\n",
    "    clause20 = ((not x2) or (not x3) or x8)\n",
    "    clause21 = (x2 or x4 or (not x8))\n",
    "    clause22 = ((not x2 )or (not x4) or x8)\n",
    "    clause23 = (x3 or x4 or (not x8))\n",
    "    clause24 = ((not x3 )or (not x4) or x8)\n",
    "    return (clause1 and clause2 and clause3 and clause4 and clause5 and clause6 and\n",
    "            clause7 and clause8 and clause9 and clause10 and clause11 and clause12 and\n",
    "            clause13 and clause14 and clause15 and clause16 and clause17 and clause18 and\n",
    "            clause19 and clause20 and clause21 and clause22 and clause23 and clause24)"
   ]
  },
  {
   "cell_type": "markdown",
   "metadata": {},
   "source": [
    "With this function, we can form a mapping table which 4-bit input and 4-bit output satifying `C = 1`"
   ]
  },
  {
   "cell_type": "code",
   "execution_count": 30,
   "metadata": {},
   "outputs": [],
   "source": [
    "mapping = dict()\n",
    "import itertools\n",
    "for x1, x2, x3, x4, x5, x6, x7, x8 in itertools.product([False, True], repeat=8):\n",
    "    result = boolean_function(x1, x2, x3, x4, x5, x6, x7, x8)\n",
    "    if result == 1:\n",
    "        l1 = \"\".join(map(str,(map(int, [x1, x2, x3, x4]))))\n",
    "        l2 = \"\".join(map(str,(map(int, [x5, x6, x7, x8]))))\n",
    "        mapping[l1] = l2 \n"
   ]
  },
  {
   "cell_type": "code",
   "execution_count": 31,
   "metadata": {},
   "outputs": [
    {
     "data": {
      "text/plain": [
       "{'0000': '0000',\n",
       " '0001': '0000',\n",
       " '0010': '0000',\n",
       " '0011': '0011',\n",
       " '0100': '0000',\n",
       " '0101': '0101',\n",
       " '0110': '1001',\n",
       " '0111': '1111',\n",
       " '1000': '0000',\n",
       " '1001': '0110',\n",
       " '1010': '1010',\n",
       " '1011': '1111',\n",
       " '1100': '1100',\n",
       " '1101': '1111',\n",
       " '1110': '1111',\n",
       " '1111': '1111'}"
      ]
     },
     "execution_count": 31,
     "metadata": {},
     "output_type": "execute_result"
    }
   ],
   "source": [
    "mapping"
   ]
  },
  {
   "cell_type": "markdown",
   "metadata": {},
   "source": [
    "- Suppose that we are generating the n-th keystream to the (n+1)-th keystream using this mapping. We can see that all block in n-th keystream must be one of the output of the mapping because it 's the keystream generated by (n-1)-th keystream. So that in the mapping, some keys are not necessary.\n",
    "- We can reduce the mapping like this."
   ]
  },
  {
   "cell_type": "code",
   "execution_count": 32,
   "metadata": {},
   "outputs": [
    {
     "name": "stdout",
     "output_type": "stream",
     "text": [
      "{'0000': '0000', '0011': '0011', '0101': '0101', '0110': '1001', '1001': '0110', '1010': '1010', '1100': '1100', '1111': '1111'}\n"
     ]
    }
   ],
   "source": [
    "values = list(mapping.values())\n",
    "keys = list(mapping.keys())\n",
    "for k in keys:\n",
    "    if k not in values:\n",
    "        mapping.pop(k)\n",
    "print(mapping)"
   ]
  },
  {
   "cell_type": "code",
   "execution_count": 33,
   "metadata": {},
   "outputs": [],
   "source": [
    "def recover(K1, K2):\n",
    "    if all(c == \"X\" for c in K2): \n",
    "        if 'X' in K1:\n",
    "            # case when K2 is full of X\n",
    "            # replace the unknown X in K2 with 0 and 1 to check possible mappings\n",
    "            K1_0 = K1.replace('X', '0')\n",
    "            K1_1 = K1.replace('X', '1')\n",
    "            if K1_0 in mapping.keys(): \n",
    "                # check if K1_0 is in mapping.keys()\n",
    "                return mapping[K1_0]\n",
    "            else: \n",
    "                # if not, then K1_1 must be in mapping.keys()\n",
    "                return mapping[K1_1]\n",
    "        else:\n",
    "            return mapping[K1]\n",
    "    elif 'X' not in K2:\n",
    "        # case when K2 is cleared\n",
    "        return K2\n",
    "    else:\n",
    "        # case when K2 has 1 character X\n",
    "        # replace X in K2 with 0 and 1\n",
    "        K2_0 = K2.replace('X', '0')\n",
    "        K2_1 = K2.replace('X', '1')\n",
    "        if K2_0 in mapping.keys(): \n",
    "            # check if K2_0 is in mapping.keys()\n",
    "            return K2_0\n",
    "        else:\n",
    "            # if not, then K2_1 must be in mapping.keys()\n",
    "            return K2_1\n"
   ]
  },
  {
   "cell_type": "markdown",
   "metadata": {},
   "source": [
    "Now, let's divide the keystream into 4-bit blocks and recover all values"
   ]
  },
  {
   "cell_type": "code",
   "execution_count": 34,
   "metadata": {},
   "outputs": [
    {
     "name": "stdout",
     "output_type": "stream",
     "text": [
      "0101011011110011001111111100000011110000101001010110010100001111\n"
     ]
    }
   ],
   "source": [
    "K_1702 = (\"0101 1001 1111 0011 00X1 X111 1X00 00X0 111X X000 XXXX XXXX XXXX XXXX XXXX XXXX\").split(\" \")\n",
    "K_1703 = (\"XXXX XXXX XXXX XXXX XXXX XXXX XXXX XXXX X111 000X X010 01X1 0X10 0101 0000 1111\").split(\" \")\n",
    "recovered = ''\n",
    "ciphertext = 0b1001100000111101011000111101010110110011101101110000000010000011\n",
    "for i in range(len(K_1702)):\n",
    "    recovered += recover(K_1702[i], K_1703[i])\n",
    "print(recovered)"
   ]
  },
  {
   "cell_type": "markdown",
   "metadata": {},
   "source": [
    "With the recovered `K_1703`, we can easily generate the 1704th keystream, XOR it with the given ciphertext to recover the plaintext, and convert it into a pair of floating-point values."
   ]
  },
  {
   "cell_type": "code",
   "execution_count": 35,
   "metadata": {},
   "outputs": [
    {
     "name": "stdout",
     "output_type": "stream",
     "text": [
      "0101100111110011001111111100000011110000101001011001010100001111\n"
     ]
    }
   ],
   "source": [
    "K_1704 = \"\"\n",
    "for i in range(0, len(recovered), 4):\n",
    "    K_1704 += mapping[recovered[i:i+4]]\n",
    "print(K_1704)"
   ]
  },
  {
   "cell_type": "code",
   "execution_count": 36,
   "metadata": {},
   "outputs": [
    {
     "name": "stdout",
     "output_type": "stream",
     "text": [
      "-25.79496192932129 146.58416748046875\n"
     ]
    }
   ],
   "source": [
    "plaintext = ciphertext ^ int(K_1704, 2)\n",
    "import struct\n",
    "latitude = plaintext >> 32\n",
    "longtitude = plaintext % (1<<32)\n",
    "\n",
    "latitude = struct.unpack('!f', struct.pack('!I', latitude))[0]\n",
    "longtitude = struct.unpack('!f', struct.pack('!I', longtitude))[0]\n",
    "print(latitude, longtitude)"
   ]
  },
  {
   "cell_type": "markdown",
   "metadata": {},
   "source": [
    "So, the latitude and longitude are -25.79496192932129 and 146.58416748046875 respectively."
   ]
  }
 ],
 "metadata": {
  "kernelspec": {
   "display_name": "Python 3",
   "language": "python",
   "name": "python3"
  },
  "language_info": {
   "codemirror_mode": {
    "name": "ipython",
    "version": 3
   },
   "file_extension": ".py",
   "mimetype": "text/x-python",
   "name": "python",
   "nbconvert_exporter": "python",
   "pygments_lexer": "ipython3",
   "version": "3.12.6"
  }
 },
 "nbformat": 4,
 "nbformat_minor": 4
}
