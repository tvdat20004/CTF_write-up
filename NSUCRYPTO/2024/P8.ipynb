{
 "cells": [
  {
   "cell_type": "markdown",
   "metadata": {},
   "source": [
    "# A solution for NSUCRYPTO 2024\n",
    "\n",
    "- __Problem 8:__ Unsecure SP-network\n",
    "\n",
    "Firstly, let's generate all 2x2 S-boxes:"
   ]
  },
  {
   "cell_type": "code",
   "execution_count": 2,
   "metadata": {},
   "outputs": [
    {
     "name": "stdout",
     "output_type": "stream",
     "text": [
      "(0, 1, 2, 3)\n",
      "(0, 1, 3, 2)\n",
      "(0, 2, 1, 3)\n",
      "(0, 2, 3, 1)\n",
      "(0, 3, 1, 2)\n",
      "(0, 3, 2, 1)\n",
      "(1, 0, 2, 3)\n",
      "(1, 0, 3, 2)\n",
      "(1, 2, 0, 3)\n",
      "(1, 2, 3, 0)\n",
      "(1, 3, 0, 2)\n",
      "(1, 3, 2, 0)\n",
      "(2, 0, 1, 3)\n",
      "(2, 0, 3, 1)\n",
      "(2, 1, 0, 3)\n",
      "(2, 1, 3, 0)\n",
      "(2, 3, 0, 1)\n",
      "(2, 3, 1, 0)\n",
      "(3, 0, 1, 2)\n",
      "(3, 0, 2, 1)\n",
      "(3, 1, 0, 2)\n",
      "(3, 1, 2, 0)\n",
      "(3, 2, 0, 1)\n",
      "(3, 2, 1, 0)\n"
     ]
    }
   ],
   "source": [
    "import itertools\n",
    "\n",
    "S_boxes = []\n",
    "\n",
    "for S_box in itertools.permutations(range(4), 4):\n",
    "    print(S_box)\n",
    "    S_boxes.append(S_box)"
   ]
  },
  {
   "cell_type": "markdown",
   "metadata": {},
   "source": [
    "A S-Box is linear if it satisfies the property: $$SBox_{i \\oplus j \\oplus 0} = SBox_i \\oplus SBox_j \\oplus SBox_0$$ for all $i, j \\in \\{0, 1,...,|SBox|\\}$. We can use this property to check a S-Box is linear or not."
   ]
  },
  {
   "cell_type": "code",
   "execution_count": 4,
   "metadata": {},
   "outputs": [],
   "source": [
    "def check_linearity(S_box):\n",
    "    for i in range(len(S_box)):\n",
    "        for j in range(len(S_box)):\n",
    "            if S_box[i ^ j ^ 0] != S_box[i] ^ S_box[j] ^ S_box[0]:\n",
    "                return False\n",
    "    return True"
   ]
  },
  {
   "cell_type": "markdown",
   "metadata": {},
   "source": [
    "Now, we can check all 2x2 S-boxes we are generated above:"
   ]
  },
  {
   "cell_type": "code",
   "execution_count": 5,
   "metadata": {},
   "outputs": [
    {
     "name": "stdout",
     "output_type": "stream",
     "text": [
      "True\n",
      "True\n",
      "True\n",
      "True\n",
      "True\n",
      "True\n",
      "True\n",
      "True\n",
      "True\n",
      "True\n",
      "True\n",
      "True\n",
      "True\n",
      "True\n",
      "True\n",
      "True\n",
      "True\n",
      "True\n",
      "True\n",
      "True\n",
      "True\n",
      "True\n",
      "True\n",
      "True\n"
     ]
    }
   ],
   "source": [
    "for S_box in S_boxes:\n",
    "    print(check_linearity(S_box))"
   ]
  },
  {
   "cell_type": "markdown",
   "metadata": {},
   "source": [
    "So all 2x2 S-boxes are affine, which means that each S-box can be modeled as the affine function $SBox(x) = A*x + B$, where $A$ is 2x2-matrix in $GF(2)$, $B, x \\in \\mathbb{F}_2^2$. Therefore, the substitution step can be represented as: $$S(x) = C*x + D = \\begin{bmatrix} & & & & A \\\\ & & & A & \\\\ & & \\dots & & \\\\ & A & & & \\\\ A & & & & \\end{bmatrix} * x + \\begin{bmatrix} B \\\\ B \\\\ \\vdots \\\\ B \\\\ B \\end{bmatrix}$$ where $x, D \\in \\mathbb{F}_2^{32}$ and $C$ is 32x32-matrix in $GF(2)$."
   ]
  },
  {
   "cell_type": "markdown",
   "metadata": {},
   "source": [
    "Because $P$ is an arbitrary linear transformation, so $P$ can be modeled as the affine function $P(x) = Ex$, where $E$ is 32x32-matrix in $GF(2)$, and $x \\in \\mathbb{F}_2^{32}$. Therefore, the $i$-th round of the cipher can be rewrite as: $$\\begin{aligned} r_i(x) &= P(S(x + K^i)) \\\\ &= P(C*(x + K^i) + D) \\\\ &= E * C * x + E * C * K^i + E * D \\\\ &= G * x + G * K^i + H \\end{aligned}$$ where $G = E * C, H = E * D, K^i = (K_{32(i mod 4) + 1}, K_{32(i mod 4) + 2},..., K_{32(i mod 4) + 32})$"
   ]
  },
  {
   "cell_type": "markdown",
   "metadata": {},
   "source": [
    "And the ciphertext can be represented as: $$\\begin{aligned} c = Enc(m) &= K^{100} + r_{99}(r_{98}(...r_1(m))) \\\\ &= G^{99} * m + H * \\frac{G^{99} - I}{G - I} + \\sum_{i=0}^{99}G^iK^{100-i}\\end{aligned}$$"
   ]
  },
  {
   "cell_type": "markdown",
   "metadata": {},
   "source": [
    "With 100 random pairs of plaintext and ciphertext, Carol can calculate $U = H * \\frac{G^{99} - I}{G - I} + \\sum_{i=0}^{99}G^iK^{100-i}$ and $V = G^{99}$. Therefore, given random ciphertext $c_A = Enc(m_A)$ from Alice, Carol can recover plaintext by calculate $m_A = (c_A - U)/V$. QED"
   ]
  }
 ],
 "metadata": {
  "kernelspec": {
   "display_name": "pypy",
   "language": "python",
   "name": "python3"
  },
  "language_info": {
   "codemirror_mode": {
    "name": "ipython",
    "version": 3
   },
   "file_extension": ".py",
   "mimetype": "text/x-python",
   "name": "python",
   "nbconvert_exporter": "python",
   "pygments_lexer": "ipython3",
   "version": "3.9.18"
  }
 },
 "nbformat": 4,
 "nbformat_minor": 2
}
