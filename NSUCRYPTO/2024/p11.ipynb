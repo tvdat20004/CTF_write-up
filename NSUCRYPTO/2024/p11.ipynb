{
 "cells": [
  {
   "cell_type": "markdown",
   "metadata": {},
   "source": [
    "# Problem 11: «A simple hash function»\n",
    "## Problem\n",
    "\n",
    "- Carol invented a keyed hash algorithm. The key $k = (k_1, k_2, ..., k_6)$ for this hash function is a binary vector of length 6, the input of hash function $p$ is a sequence of digits. It should be divided into blocks of length 6. If the length of the sequence is not a multiple of 6 then it can be completed with 1, 2, 3, and so on up to the necessary length. It should be divided into blocks of length 6. Let say the input is $p=(p_1, p_2, ..., p_6)$, the hash value of each block is calculated by this formula: $$H(k, p)=\\sum_{i=1}^{6}(-1)^{k_i}*p_i$$ Say $n_1, n_2, ..., n_k$ is the result of such calculations of each block, then the final hash value is calculated as $$H=\\sum_{i=1}^{k}(-1)^i*n_i$$\n",
    "- Our goal is to propose a simplest algorithm how to get a collision of the first order for any known input sequence P if the\n",
    "key K is unknown. By the way, find the shortest collision for the sequence from the example, $P = 134875 512293$."
   ]
  },
  {
   "cell_type": "markdown",
   "metadata": {},
   "source": [
    "## Solution\n",
    "- We can form the hash function into a formula like this: $$H(k, p)=\\sum_{i=1}^{6}(-1)^{k_i}*\\left( \\sum_{j=0}^{k}(-1^j)*p_{i+6j} \\right)$$\n",
    "Because the key $K$ is unknown, we have to find an algorithm that find collision for all case of $K$, which means all sums of $(-1^j)*p_{i+6j}$ of 2 message have to be respectively equal. \n",
    "- In my algorithm, I firstly find the minimum numbers of blocks in the collision. I do it like this:\n",
    "\t- Calculate the range of sum $(-1^j)*p_{i+6j}$ in each case of number of blocks.\n",
    "\t- Calculate all sums $(-1^j)*p_{i+6j}$ of input sequence, say $n_i$\n",
    "\t- Find the biggest number of blocks such that its ranges can fit all calculated sum of input sequence. That is the minimum of number of blocks in collision."
   ]
  },
  {
   "cell_type": "code",
   "execution_count": 1,
   "metadata": {},
   "outputs": [],
   "source": [
    "def find_bound(num_blocks):\n",
    "    '''\n",
    "    find the range of sum (-1^j)*p_{i+6j} in each case of num_blocks\n",
    "    '''\n",
    "    min = 0\n",
    "    max = 0\n",
    "    for i in range(num_blocks):\n",
    "        if i % 2:\n",
    "            min -= 9 \n",
    "        else:\n",
    "            max += 9 \n",
    "    return min, max \n",
    "\n",
    "def find_min_num_block(x_i: list[int]):\n",
    "    '''\n",
    "    Find the minimum of number of blocks in collision\n",
    "    '''\n",
    "    num = 1\n",
    "    while not all(x in range(*find_bound(num)) for x in x_i):\n",
    "        num += 1\n",
    "    return num"
   ]
  },
  {
   "cell_type": "markdown",
   "metadata": {},
   "source": [
    "- After having the number of blocks, suppose it is $k$, we handle each sum $(-1^j)*p_{i+6j}$ seperately. Now we have to solve a sub-problem like this:\n",
    "> Find a sequence of number $p_i$, with i from 1 to $k$ such that $\\sum_{i=1}^{k}(-1)*p_i=x$ with known x and the number $\\overline{p_1p_2...p_k}$ is minimum.\n",
    "- To solve that, I simply bruteforce the value $\\overline{p_1p_2...p_k}$ from 0 to the maximum to find the first number satisfying the condition. We can have a Python script to simulate this process"
   ]
  },
  {
   "cell_type": "code",
   "execution_count": 3,
   "metadata": {},
   "outputs": [],
   "source": [
    "def calculate(n : list[str]) -> int:\n",
    "    '''\n",
    "    Calculate the sum (-1^i)*n_i\n",
    "    '''\n",
    "    return sum((-1)**i * int(x) for i, x in enumerate(n))\n",
    "\n",
    "def brute(x : int, num_blocks : int) -> list[str]:\n",
    "    candidate = 0\n",
    "    if num_blocks == 1:\n",
    "        if 0 <= x <= 9:\n",
    "            return [str(x)]\n",
    "        else:\n",
    "            return None\n",
    "    while True:\n",
    "        candidate_str = str(candidate).rjust(num_blocks - 1, '0')\n",
    "        known = calculate(candidate_str)\n",
    "        if num_blocks % 2:\n",
    "            unknown = x - known\n",
    "        else:\n",
    "            unknown = known - x \n",
    "        if 0 <= unknown <= 9:\n",
    "            return list(candidate_str + str(unknown))\n",
    "            break\n",
    "        else:\n",
    "            candidate += 1\n",
    "        if candidate > 10**(num_blocks-1):\n",
    "            return None"
   ]
  },
  {
   "cell_type": "markdown",
   "metadata": {},
   "source": [
    "- Now, we have to consider to the case of padding. We can take advantage of padding to reduce the length of collision to find the shortest one. So, we can consider each case of padding in turn from $12345$, $1234$, $123$, $12$, $1$ and no padding. Once we found a collision in a such case of padding, we can stop and return the value."
   ]
  },
  {
   "cell_type": "code",
   "execution_count": 4,
   "metadata": {},
   "outputs": [],
   "source": [
    "\n",
    "def find_collision(original_data : str):\n",
    "    # padding the original data\n",
    "    i = 1\n",
    "    while len(original_data) % 6:\n",
    "        original_data += str(i)\n",
    "        i += 1 \n",
    "    blocks = [original_data[i:i+6] for i in range(0, len(original_data), 6)]\n",
    "    x_i = [calculate([block[i] for block in blocks]) for i in range(6)] # sums of (-1)^i * p_{i+6j}\n",
    "    num_blocks = find_min_num_block(x_i) # find the minimum number of blocks in collision\n",
    "    print(x_i)\n",
    "    if num_blocks == 1:\n",
    "        return \"\".join(str(x) for x in x_i)\n",
    "    # consider all padding cases\n",
    "    for num_pad in [5,4,3,2,1,0]:\n",
    "        coll = []\n",
    "        last_block_padding = (6 - num_pad) * [None] + list(range(1,num_pad + 1))\n",
    "        for i,x in enumerate(x_i):\n",
    "            if last_block_padding[i]:\n",
    "                if num_blocks % 2:\n",
    "                    x -= last_block_padding[i]\n",
    "                else:\n",
    "                    x += last_block_padding[i]\n",
    "                result = brute(x, num_blocks - 1)\n",
    "                if result == None:\n",
    "                    break\n",
    "                else:\n",
    "                    result += [str(last_block_padding[i])]\n",
    "            else:\n",
    "                result = brute(x, num_blocks)\n",
    "            coll.append(result)\n",
    "        if len(coll) < 6:\n",
    "            continue\n",
    "        ans = \"\"\n",
    "        for i in range(num_blocks):\n",
    "            ans += \"\".join(c[i] for c in coll)\n",
    "        return ans[:-num_pad]"
   ]
  },
  {
   "cell_type": "code",
   "execution_count": 5,
   "metadata": {},
   "outputs": [
    {
     "name": "stdout",
     "output_type": "stream",
     "text": [
      "[-4, 2, 2, 6, -2, 2]\n",
      "0349274\n"
     ]
    }
   ],
   "source": [
    "print(find_collision(\"134875512293\"))"
   ]
  },
  {
   "cell_type": "markdown",
   "metadata": {},
   "source": [
    "So, the shortest collision for the sequence $P=134875512293$ is $0349274$. The algorithm I just present above is also a simplest\n",
    "algorithm how to get a collision of the first order for any known input sequence P if the key K is unknown. QED"
   ]
  },
  {
   "cell_type": "markdown",
   "metadata": {},
   "source": []
  }
 ],
 "metadata": {
  "kernelspec": {
   "display_name": "Python 3",
   "language": "python",
   "name": "python3"
  },
  "language_info": {
   "codemirror_mode": {
    "name": "ipython",
    "version": 3
   },
   "file_extension": ".py",
   "mimetype": "text/x-python",
   "name": "python",
   "nbconvert_exporter": "python",
   "pygments_lexer": "ipython3",
   "version": "3.12.6"
  }
 },
 "nbformat": 4,
 "nbformat_minor": 2
}
