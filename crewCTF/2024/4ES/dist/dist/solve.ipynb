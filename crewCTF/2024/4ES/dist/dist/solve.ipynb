{
 "cells": [
  {
   "cell_type": "code",
   "execution_count": 1,
   "id": "cb297f48-ee60-4f5c-ba58-48b4c2252933",
   "metadata": {},
   "outputs": [],
   "source": [
    "from Crypto.Cipher import AES\n",
    "from hashlib import sha256\n",
    "\n",
    "from tqdm import tqdm\n",
    "pt = bytes.fromhex('4145535f4145535f4145535f41455321')\n",
    "ct = bytes.fromhex('edb43249be0d7a4620b9b876315eb430')\n",
    "enc_flag = bytes.fromhex('e5218894e05e14eb7cc27dc2aeed10245bfa4426489125a55e82a3d81a15d18afd152d6c51a7024f05e15e1527afa84b')\n",
    "\n",
    "chars = b'crew_AES*4=$!?'"
   ]
  },
  {
   "cell_type": "code",
   "execution_count": 2,
   "id": "062f3d62-9b72-4a5a-bf64-e8a46480ac26",
   "metadata": {},
   "outputs": [],
   "source": [
    "keys = []\n",
    "k = []\n",
    "for i in chars:\n",
    "\tfor j in chars:\n",
    "\t\tfor h in chars:\n",
    "\t\t\tkeys.append(sha256(bytes([i, j, h])).digest())\n",
    "\t\t\tk.append(bytes([i,j,h]))"
   ]
  },
  {
   "cell_type": "code",
   "execution_count": 3,
   "id": "9111931e-549c-4586-9364-b3ea416c526a",
   "metadata": {},
   "outputs": [
    {
     "name": "stderr",
     "output_type": "stream",
     "text": [
      "100%|███████████████████████████████████████████████████████████████████████████████| 2744/2744 [00:49<00:00, 55.69it/s]\n",
      "100%|███████████████████████████████████████████████████████████████████████████████| 2744/2744 [00:49<00:00, 55.53it/s]\n"
     ]
    }
   ],
   "source": [
    "\n",
    "candidate1 = []\n",
    "for k1 in tqdm(keys):\n",
    "\tsample = AES.new(k1, AES.MODE_ECB).encrypt(pt)\n",
    "\tfor k2 in keys:\n",
    "\t\tcandidate1.append(AES.new(k2, AES.MODE_ECB).encrypt(sample))\n",
    "\n",
    "candidate2 = []\n",
    "for k3 in tqdm(keys):\n",
    "\tsample = AES.new(k3, AES.MODE_ECB).decrypt(ct)\n",
    "\tfor k4 in keys:\n",
    "\t\tvalue = AES.new(k4, AES.MODE_ECB).decrypt(sample)\n",
    "\t\tcandidate2.append(value)"
   ]
  },
  {
   "cell_type": "code",
   "execution_count": 4,
   "id": "b57c3b66-b53c-46c2-a0bd-5061d0fab97f",
   "metadata": {},
   "outputs": [
    {
     "name": "stdout",
     "output_type": "stream",
     "text": [
      "{b'\\xb7\\xe25\\x0c\\xa5N\\xban;\\xf1\\xd7\\xa5Cn\\xf85'}\n"
     ]
    }
   ],
   "source": [
    "candidate1_ = set(candidate1)\n",
    "candidate2_ = set(candidate2)\n",
    "common = candidate1_.intersection(candidate2_)\n",
    "print(common)"
   ]
  },
  {
   "cell_type": "code",
   "execution_count": 5,
   "id": "b858fee1-7ac4-4da1-888b-15cddf22c7dc",
   "metadata": {},
   "outputs": [],
   "source": [
    "for c in common:\n",
    "\tidx1 = candidate1.index(c)\n",
    "\tidx2 = candidate2.index(c)\n",
    "\tk1,k2 = idx1 // len(keys), idx1 % len(keys)\n",
    "\tk3,k4 = idx2 // len(keys), idx2 % len(keys)\n"
   ]
  },
  {
   "cell_type": "code",
   "execution_count": 6,
   "id": "5f4dd3c8-9e2b-4000-9de5-18bfbb8b7f12",
   "metadata": {},
   "outputs": [
    {
     "data": {
      "text/plain": [
       "792"
      ]
     },
     "execution_count": 6,
     "metadata": {},
     "output_type": "execute_result"
    }
   ],
   "source": [
    "k1"
   ]
  },
  {
   "cell_type": "code",
   "execution_count": 7,
   "id": "e4ff507d-f3bf-428d-9fa3-1685e1ad0856",
   "metadata": {},
   "outputs": [
    {
     "data": {
      "text/plain": [
       "1169"
      ]
     },
     "execution_count": 7,
     "metadata": {},
     "output_type": "execute_result"
    }
   ],
   "source": [
    "k2"
   ]
  },
  {
   "cell_type": "code",
   "execution_count": 8,
   "id": "5f0a961d-ed58-4dec-8bf1-d9e768b28302",
   "metadata": {},
   "outputs": [
    {
     "data": {
      "text/plain": [
       "1044"
      ]
     },
     "execution_count": 8,
     "metadata": {},
     "output_type": "execute_result"
    }
   ],
   "source": [
    "k3"
   ]
  },
  {
   "cell_type": "code",
   "execution_count": 9,
   "id": "c420bf83-851a-4077-95f1-f18ccb7ce4de",
   "metadata": {},
   "outputs": [
    {
     "data": {
      "text/plain": [
       "142"
      ]
     },
     "execution_count": 9,
     "metadata": {},
     "output_type": "execute_result"
    }
   ],
   "source": [
    "k4"
   ]
  },
  {
   "cell_type": "code",
   "execution_count": 10,
   "id": "fb3ed81a-3c1b-451a-be61-d3af39ddd3af",
   "metadata": {},
   "outputs": [],
   "source": [
    "x = AES.new(keys[k3], AES.MODE_ECB).encrypt(\n",
    "\t\t\t AES.new(keys[k4], AES.MODE_ECB).encrypt(\n",
    "\t\t\t\t AES.new(keys[k2], AES.MODE_ECB).encrypt(\n",
    "\t\t\t\t\t AES.new(keys[k1], AES.MODE_ECB).encrypt(\n",
    "\t\t\t\t\t\t pt\n",
    "\t\t\t\t\t )\n",
    "\t\t\t\t )\n",
    "\t\t\t )\n",
    "\t)"
   ]
  },
  {
   "cell_type": "code",
   "execution_count": 11,
   "id": "1275a497-5138-4241-af84-aa6059ab6ca4",
   "metadata": {},
   "outputs": [],
   "source": [
    "assert x==ct\n",
    "assert sha256(k[k1]).digest()==keys[k1]"
   ]
  },
  {
   "cell_type": "code",
   "execution_count": 12,
   "id": "ec884cdb-e887-45ab-95d9-35353db09c0d",
   "metadata": {},
   "outputs": [
    {
     "name": "stdout",
     "output_type": "stream",
     "text": [
      "b'crew{m1tm_at74cK_1s_g0lD_4nd_py7h0n_i5_sl0w!!}\\x02\\x02'\n"
     ]
    }
   ],
   "source": [
    "key = sha256(k[k1] + k[k2] + k[k4] + k[k3]).digest()\n",
    "print(AES.new(key, AES.MODE_ECB).decrypt(enc_flag))"
   ]
  },
  {
   "cell_type": "code",
   "execution_count": null,
   "id": "1013e2b3-9dd2-45d9-b45c-0490560812f8",
   "metadata": {},
   "outputs": [],
   "source": []
  }
 ],
 "metadata": {
  "kernelspec": {
   "display_name": "Python 3 (ipykernel)",
   "language": "python",
   "name": "python3"
  },
  "language_info": {
   "codemirror_mode": {
    "name": "ipython",
    "version": 3
   },
   "file_extension": ".py",
   "mimetype": "text/x-python",
   "name": "python",
   "nbconvert_exporter": "python",
   "pygments_lexer": "ipython3",
   "version": "3.12.4"
  }
 },
 "nbformat": 4,
 "nbformat_minor": 5
}
